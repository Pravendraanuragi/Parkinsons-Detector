{
  "nbformat": 4,
  "nbformat_minor": 0,
  "metadata": {
    "colab": {
      "provenance": []
    },
    "kernelspec": {
      "name": "python3",
      "display_name": "Python 3"
    },
    "language_info": {
      "name": "python"
    }
  },
  "cells": [
    {
      "cell_type": "code",
      "execution_count": 13,
      "metadata": {
        "colab": {
          "base_uri": "https://localhost:8080/"
        },
        "id": "jaaLTEVF6Yap",
        "outputId": "a414629e-0e91-41e9-84c6-c2c2d4dd019e"
      },
      "outputs": [
        {
          "output_type": "stream",
          "name": "stdout",
          "text": [
            "Training Accuracy: 1.0\n",
            "Scaler and XGBoost model saved successfully in Colab!\n"
          ]
        }
      ],
      "source": [
        "# Required imports\n",
        "import pandas as pd\n",
        "from sklearn.preprocessing import StandardScaler\n",
        "from sklearn.model_selection import train_test_split\n",
        "from xgboost import XGBClassifier\n",
        "import joblib\n",
        "from sklearn.metrics import accuracy_score\n",
        "\n",
        "# 1️⃣ Dataset load\n",
        "data = pd.read_csv('parkinsons.data')\n",
        "X = data.drop(['name','status'], axis=1)\n",
        "y = data['status']\n",
        "\n",
        "# 2️⃣ Scale features\n",
        "scaler = StandardScaler()\n",
        "X_scaled = scaler.fit_transform(X)\n",
        "\n",
        "# Save Scaler (joblib safe for Colab)\n",
        "joblib.dump(scaler, 'scaler.pkl')\n",
        "\n",
        "# 3️⃣ Train XGBoost model\n",
        "model = XGBClassifier(eval_metric='logloss')\n",
        "model.fit(X_scaled, y)\n",
        "\n",
        "# 4️⃣ Save Model in JSON format (Colab friendly)\n",
        "model.save_model('parkinsons_xgb_model.json')\n",
        "\n",
        "# 5️⃣ Accuracy check (optional)\n",
        "y_pred = model.predict(X_scaled)\n",
        "print(\"Training Accuracy:\", accuracy_score(y, y_pred))\n",
        "print(\"Scaler and XGBoost model saved successfully in Colab!\")\n"
      ]
    },
    {
      "cell_type": "code",
      "source": [
        "\n",
        "# ================================\n",
        "# Parkinson's Disease Detector\n",
        "# Final Colab-Ready Notebook\n",
        "# ================================\n",
        "\n",
        "# 1️⃣ Imports\n",
        "import pandas as pd\n",
        "import numpy as np\n",
        "import joblib\n",
        "from xgboost import XGBClassifier\n",
        "from sklearn.metrics import accuracy_score\n",
        "\n",
        "#  Load Scaler\n",
        "scaler = joblib.load('scaler.pkl')\n",
        "print(\"Scaler loaded successfully!\")\n",
        "\n",
        "#  Load XGBoost model\n",
        "model = XGBClassifier()\n",
        "model.load_model('parkinsons_xgb_model.json')\n",
        "print(\"XGBoost model loaded successfully!\")\n",
        "\n",
        "# Load dataset (optional, for accuracy check)\n",
        "data = pd.read_csv('parkinsons.data')\n",
        "X = data.drop(['name','status'], axis=1)\n",
        "y = data['status']\n",
        "\n",
        "# Scale features\n",
        "X_scaled = scaler.transform(X)\n",
        "\n",
        "# Predict on full dataset\n",
        "y_pred = model.predict(X_scaled)\n",
        "print(\"Accuracy on full dataset:\", accuracy_score(y, y_pred))\n",
        "\n",
        "\n",
        "sample_input_df = pd.DataFrame([X.iloc[0]], columns=X.columns)\n",
        "scaled_input = scaler.transform(sample_input_df)\n",
        "pred = model.predict(scaled_input)\n",
        "\n",
        "if pred[0] == 1:\n",
        "    print(\"Parkinson's Detected\")\n",
        "else:\n",
        "    print(\"Healthy\")\n",
        "\n",
        "\n"
      ],
      "metadata": {
        "colab": {
          "base_uri": "https://localhost:8080/"
        },
        "id": "HrpLWKEK-4Ta",
        "outputId": "15969686-3d6f-4489-8892-f23df7121b61"
      },
      "execution_count": 15,
      "outputs": [
        {
          "output_type": "stream",
          "name": "stdout",
          "text": [
            "Scaler loaded successfully!\n",
            "XGBoost model loaded successfully!\n",
            "Accuracy on full dataset: 1.0\n",
            "Parkinson's Detected\n"
          ]
        }
      ]
    }
  ]
}